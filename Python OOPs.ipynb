{
 "cells": [
  {
   "cell_type": "markdown",
   "id": "efe8a73a",
   "metadata": {},
   "source": [
    "### What Is Object-Oriented Programming?\n",
    "\n",
    "Object-Oriented Programming (OOP), is all about creating objects.\n",
    "\n",
    "*     An object is a group of interrelated variables and functions\n",
    "\n",
    "      - variables are often referred to as properties of the object and\n",
    "\n",
    "      - functions are referred to as the behavior of the objects.\n",
    "      \n",
    "      \n",
    "*     For example, a car can be an object.\n",
    "\n",
    "      - its properties would be - its color, its model, its price, its brand, etc.\n",
    "\n",
    "      - its behavior/function would be acceleration, slowing down, gear change.\n",
    "      \n",
    "\n",
    "*     Another example- If we consider a dog as an object\n",
    "\n",
    "      - then its properties would be- his color, his breed, his name, his weight, etc.\n",
    "\n",
    "      - And his behavior/function would be walking, barking, playing, etc.\n",
    "\n",
    "These objects provide a better and clear structure for the program."
   ]
  },
  {
   "cell_type": "markdown",
   "id": "eb6fd47d",
   "metadata": {},
   "source": [
    "## Classes vs Instances\n",
    "\n",
    "  - A class is a blueprint or template of entities (things) of the same kind.\n",
    "\n",
    "  - An instance is a particular realization of a class. (with a unique memory address)\n",
    "\n",
    "## Classes\n",
    "\n",
    "  - are used to create user-defined data structures.\n",
    "\n",
    "  - define functions called methods, which identify the behaviors and actions that an object created from the class can             perform with its data.\n",
    "\n",
    "  - It doesn't actually contain any data.\n",
    "\n",
    "## Instance\n",
    "\n",
    "   - contains real data.\n",
    "\n",
    "Example\n",
    "\n",
    "   - a class is like a form or questionnaire.\n",
    "\n",
    "   - An instance is like a form that has been filled out with information.\n",
    "\n",
    "- Just like many people can fill out the same form with their own unique information,\n",
    "\n",
    "     - many instances can be created from a single class."
   ]
  },
  {
   "cell_type": "code",
   "execution_count": 10,
   "id": "5dd73709",
   "metadata": {},
   "outputs": [],
   "source": [
    "##example\n",
    "from math import pi\n",
    "class Circle:\n",
    "    \n",
    "    def __init__(self, radius = 1.0):\n",
    "        self.radius = radius  # creat an instance variable radius\n",
    "        \n",
    "    def __str__(self):\n",
    "        return 'This is a circle radius of {:.2f}'.format(self.radius)\n",
    "    \n",
    "    def get_area(self):\n",
    "        return (self.radius **2) *pi"
   ]
  },
  {
   "cell_type": "code",
   "execution_count": 12,
   "id": "0bb7d6ef",
   "metadata": {},
   "outputs": [
    {
     "name": "stdout",
     "output_type": "stream",
     "text": [
      "This is a circle radius of 2.10\n",
      "13.854423602330987\n",
      "2.1\n"
     ]
    }
   ],
   "source": [
    "c1 = Circle(2.1)   #construct an instance\n",
    "print(c1)\n",
    "print(c1.get_area())\n",
    "print(c1.radius)"
   ]
  },
  {
   "cell_type": "code",
   "execution_count": 13,
   "id": "d46a50a2",
   "metadata": {},
   "outputs": [
    {
     "name": "stdout",
     "output_type": "stream",
     "text": [
      "This is a circle radius of 1.00\n",
      "3.141592653589793\n",
      "1.0\n"
     ]
    }
   ],
   "source": [
    "c2 = Circle()   #default radius\n",
    "print(c2)\n",
    "print(c2.get_area())\n",
    "print(c2.radius)"
   ]
  },
  {
   "cell_type": "markdown",
   "id": "71aaea39",
   "metadata": {},
   "source": [
    "* All class definitions start with the class keyword, which is followed by the name of the class and a colon.\n",
    "\n",
    "* Any code that is indented below the class definition is considered part of the __class's body__."
   ]
  },
  {
   "cell_type": "code",
   "execution_count": 15,
   "id": "2decfa9e",
   "metadata": {},
   "outputs": [],
   "source": [
    "class Circle:\n",
    "    ''' A circle instance models a circle with a radius.'''\n",
    "    pass"
   ]
  },
  {
   "cell_type": "markdown",
   "id": "313b4f1b",
   "metadata": {},
   "source": [
    "### Naming convention\n",
    "\n",
    "- Class names are initial-capitalized (i.e., CamelCase).\n",
    "\n",
    "\n",
    "- Variables and method names are also in lowercase.\n",
    "\n",
    "\n",
    "- The class is called Circle (in CamelCase), class Circle: define the Circle class. \n",
    "\n",
    "\n",
    "- The body of the Circle class consists of a single statement: the pass keyword.\n",
    "\n",
    "\n",
    "- pass is often used as a placeholder indicating where code will eventually go.\n",
    "\n",
    "    - It allows you to run this code without Python throwing an error.\n",
    "\n",
    "### Initialize instance variables"
   ]
  },
  {
   "cell_type": "code",
   "execution_count": 18,
   "id": "a06c595b",
   "metadata": {},
   "outputs": [],
   "source": [
    "class Circle:\n",
    "    ''' A circle instance models a circle with a radius.'''\n",
    "    def __init__(self, radius = 1.0):\n",
    "        ''' Initializer with default radius of 1.0'''\n",
    "        self.radius = radius  # creat an instance variable radius"
   ]
  },
  {
   "cell_type": "markdown",
   "id": "8923dca2",
   "metadata": {},
   "source": [
    "* the instance variables are declared within the init() method\n",
    "\n",
    "\n",
    "* __self__ : The first parameter of all the member methods shall be an object called self (e.g., init(self,...)), which binds to this instance (ie., itself) during invocation.\n",
    "\n",
    "\n",
    "* Every time a new Circle object is created, .init() sets the initial state of the object by assigning the values of the object's properties.\n",
    "\n",
    "\n",
    "       -That is, init() initializes each new instance of the class.\n",
    "\n",
    "\n",
    "*  We can give .init() any number of parameters, but the first parameter will always be a variable called self.\n",
    "\n",
    "\n",
    "*  When a new class instance is created, the instance is automatically passed to the self parameter in init() so that new attributes can be defined on the object.\n",
    "\n",
    "\n",
    "* Inside the init() method, the self.radius = radius defines an instance variable radius.\n",
    "\n"
   ]
  },
  {
   "cell_type": "markdown",
   "id": "82dcc23e",
   "metadata": {},
   "source": [
    "* Take note that:\n",
    "\n",
    "    - init() is not really the constructor, but an initializer to create the instance variables.\n",
    "\n",
    "    - init() shall never return a value.\n",
    "\n",
    "    - init() is optional and can be omitted if there is no instance variables.\n",
    "\n",
    "### Class / Instance attributes\n",
    "***\n",
    "\n",
    "* Attributes created in init() are called instance attributes\n",
    "\n",
    "    - An instance attribute's value is specific to a particular instance of the class.\n",
    "\n",
    "    - All Dog objects have a name and an age, but the values for the name and age attributes will vary depending on the Dog instance.\n",
    "\n",
    "\n",
    "* class attributes are attributes that have the same value for all class instances\n",
    "\n",
    "    * You can define a class attribute by assigning a value to a variable name outside of <b> _init_().</b>"
   ]
  },
  {
   "cell_type": "code",
   "execution_count": 19,
   "id": "569e22e5",
   "metadata": {},
   "outputs": [],
   "source": [
    "class Circle:\n",
    "    ''' A circle instance models a circle with a radius.'''\n",
    "    shape_object = 'Circle'\n",
    "    def __init__(self, radius = 1.0):\n",
    "        ''' Initializer with default radius of 1.0'''\n",
    "        self.radius = radius  # creat an instance variable radius"
   ]
  },
  {
   "cell_type": "markdown",
   "id": "98891325",
   "metadata": {},
   "source": [
    "* Class attributes are defined directly beneath the first line of the class name and are indented by four spaces.\n",
    "\n",
    "* They must always be assigned an initial value.\n",
    "\n",
    "* When an instance of the class is created, class attributes are automatically created and assigned to"
   ]
  },
  {
   "cell_type": "markdown",
   "id": "39ded6c6",
   "metadata": {},
   "source": [
    "### Instantiate a object in Python"
   ]
  },
  {
   "cell_type": "code",
   "execution_count": 22,
   "id": "adb6f9bc",
   "metadata": {},
   "outputs": [
    {
     "name": "stdout",
     "output_type": "stream",
     "text": [
      "1372261942080\n",
      "0x13f812f8340\n"
     ]
    }
   ],
   "source": [
    "c1 = Circle()\n",
    "print(id(c1))\n",
    "print(hex(id(c1)))"
   ]
  },
  {
   "cell_type": "markdown",
   "id": "7b756f29",
   "metadata": {},
   "source": [
    "You now have a new __Circle__ object at 0x13f812f8340.\n",
    "\n",
    "now Instatiate second object."
   ]
  },
  {
   "cell_type": "code",
   "execution_count": 23,
   "id": "6d8f4cec",
   "metadata": {},
   "outputs": [
    {
     "name": "stdout",
     "output_type": "stream",
     "text": [
      "1372261941984\n",
      "0x13f812f82e0\n"
     ]
    }
   ],
   "source": [
    "c2 = Circle()\n",
    "print(id(c2))\n",
    "print(hex(id(c2)))"
   ]
  },
  {
   "cell_type": "markdown",
   "id": "9e573376",
   "metadata": {},
   "source": [
    "> __Notice__  The different memory location."
   ]
  },
  {
   "cell_type": "markdown",
   "id": "0fb509d8",
   "metadata": {},
   "source": [
    "## Class Method, Instance Method and Static Method\n",
    "***\n",
    "\n",
    "### 1. Class Method (Decorator @classmethod)\n",
    "\n",
    "* A class method belongs to the class and is a function of the class.\n",
    "\n",
    "* It is declared with the @classmethod decorator. It accepts the class as its first argument. For example"
   ]
  },
  {
   "cell_type": "code",
   "execution_count": 33,
   "id": "b88a1bf5",
   "metadata": {},
   "outputs": [],
   "source": [
    "class Myclass:\n",
    "    @classmethod\n",
    "    def hello(self, name):\n",
    "        print(self)\n",
    "        print('hello from', self.__name__, \",\", name)"
   ]
  },
  {
   "cell_type": "code",
   "execution_count": 32,
   "id": "516887f4",
   "metadata": {},
   "outputs": [
    {
     "name": "stdout",
     "output_type": "stream",
     "text": [
      "<class '__main__.Myclass'>\n",
      "hello from Myclass  , Nitesh\n"
     ]
    }
   ],
   "source": [
    "Myclass.hello('Nitesh')"
   ]
  },
  {
   "cell_type": "markdown",
   "id": "f8b38831",
   "metadata": {},
   "source": [
    "***\n",
    "### 2.Instance Method\n",
    "\n",
    "* Instance methods are the most common type of method.\n",
    "\n",
    "* An instance method is invoked by an instance object (and not a class object).\n",
    "\n",
    "* It takes the instance (self) as its first argument. For example,"
   ]
  },
  {
   "cell_type": "code",
   "execution_count": 45,
   "id": "4855bc4e",
   "metadata": {},
   "outputs": [],
   "source": [
    "class Myclass:\n",
    "    def hello(self):\n",
    "        print('hello from', self.__class__.__name__)"
   ]
  },
  {
   "cell_type": "code",
   "execution_count": 46,
   "id": "41429d88",
   "metadata": {},
   "outputs": [
    {
     "name": "stdout",
     "output_type": "stream",
     "text": [
      "hello from Myclass\n"
     ]
    }
   ],
   "source": [
    "obj1 = Myclass()\n",
    "obj1.hello()"
   ]
  },
  {
   "cell_type": "markdown",
   "id": "852602f0",
   "metadata": {},
   "source": [
    "***\n",
    "### Static Method (Decorator @staticmethod)\n",
    "\n",
    "* A static method is declared with a __@staticmethod__ decorator.\n",
    "\n",
    "* It \"doesn't know its class\" and is attached to the class for convenience.\n",
    "\n",
    "* It does not depend on the state of the object and could be a separate function of a module.\n",
    "\n",
    "* A static method can be invoked via a class object or instance object. For example,"
   ]
  },
  {
   "cell_type": "code",
   "execution_count": 51,
   "id": "197b49c3",
   "metadata": {},
   "outputs": [],
   "source": [
    "class Myclass:\n",
    "    @staticmethod\n",
    "    def hello():\n",
    "        print('Hello from India !')"
   ]
  },
  {
   "cell_type": "code",
   "execution_count": 52,
   "id": "7474a33c",
   "metadata": {},
   "outputs": [
    {
     "name": "stdout",
     "output_type": "stream",
     "text": [
      "Hello from India !\n"
     ]
    }
   ],
   "source": [
    "instance = Myclass()\n",
    "instance.hello()"
   ]
  },
  {
   "cell_type": "markdown",
   "id": "d6eb2865",
   "metadata": {},
   "source": [
    "***\n",
    "## Inheritance in OOP\n",
    "\n",
    "\n",
    "> Inheritance models what is called an is a relationship.\n",
    "\n",
    "> This means that when you have a Derived class that inherits from a Base class, you created a relationship where Derived is a specialized version of Base.\n",
    "\n",
    "> Inheritance is represented using the Unified Modeling Language or UML in the following way:"
   ]
  },
  {
   "cell_type": "markdown",
   "id": "0a936781",
   "metadata": {},
   "source": [
    "<img src = \"https://cdn.programiz.com/sites/tutorial2program/files/cpp-inheritance.png\" width = 40%/>"
   ]
  },
  {
   "cell_type": "code",
   "execution_count": 9,
   "id": "71e027c5",
   "metadata": {},
   "outputs": [],
   "source": [
    "from math import pi\n",
    "class Circle:\n",
    "    ''' A circle instance models a circle with a radius.'''\n",
    "    \n",
    "    shape_object = 'Circle'\n",
    "    \n",
    "    def __init__(self, radius = 1.0):\n",
    "        self.radius = radius  # creat an instance variable radius\n",
    "        \n",
    "    def __str__(self):\n",
    "        return 'This is a circle radius of {:.2f}'.format(self.radius)\n",
    "    \n",
    "    def get_area(self):\n",
    "        return (self.radius **2) *pi"
   ]
  },
  {
   "cell_type": "code",
   "execution_count": 10,
   "id": "0a4bfe1b",
   "metadata": {},
   "outputs": [],
   "source": [
    "class Cylinder(Circle):\n",
    "    ''' A cylinder Class is subclass of  circle.'''\n",
    "    \n",
    "    def __init__(self, radius = 1.0, height = 1.0):\n",
    "        \n",
    "        super().__init__(radius)    #invoke Superclass Initializer\n",
    "        self.height = height \n",
    "        \n",
    "    def __str__(self):\n",
    "        return 'Cylineder(radius={},height={})'.format(self.radius, self.height)\n",
    "    \n",
    "    def get_volume(self):\n",
    "        return self.get_area() *self.height    #Inherited get_area()"
   ]
  },
  {
   "cell_type": "code",
   "execution_count": 11,
   "id": "24bf00c5",
   "metadata": {},
   "outputs": [
    {
     "name": "stdout",
     "output_type": "stream",
     "text": [
      "Cylineder(radius=1.1,height=2.2)\n"
     ]
    }
   ],
   "source": [
    "cy1 = Cylinder(1.1,2.2)\n",
    "print(cy1)"
   ]
  },
  {
   "cell_type": "code",
   "execution_count": 12,
   "id": "33b76e19",
   "metadata": {},
   "outputs": [
    {
     "name": "stdout",
     "output_type": "stream",
     "text": [
      "3.8013271108436504\n"
     ]
    }
   ],
   "source": [
    "print(cy1.get_area())"
   ]
  },
  {
   "cell_type": "code",
   "execution_count": 13,
   "id": "06ef5bc2",
   "metadata": {},
   "outputs": [
    {
     "name": "stdout",
     "output_type": "stream",
     "text": [
      "8.362919643856031\n"
     ]
    }
   ],
   "source": [
    "print(cy1.get_volume())"
   ]
  },
  {
   "cell_type": "code",
   "execution_count": 14,
   "id": "4e537a8c",
   "metadata": {},
   "outputs": [
    {
     "name": "stdout",
     "output_type": "stream",
     "text": [
      "1.1\n"
     ]
    }
   ],
   "source": [
    "print(cy1.radius)"
   ]
  },
  {
   "cell_type": "code",
   "execution_count": 15,
   "id": "1e410fd1",
   "metadata": {},
   "outputs": [
    {
     "name": "stdout",
     "output_type": "stream",
     "text": [
      "2.2\n"
     ]
    }
   ],
   "source": [
    "print(cy1.height)"
   ]
  },
  {
   "cell_type": "code",
   "execution_count": 16,
   "id": "7d215796",
   "metadata": {},
   "outputs": [
    {
     "name": "stdout",
     "output_type": "stream",
     "text": [
      "Cylineder(radius=1.0,height=1.0)\n",
      "3.141592653589793\n",
      "3.141592653589793\n"
     ]
    }
   ],
   "source": [
    "cy1 = Cylinder()   #with default radius and height\n",
    "print(cy1)\n",
    "print(cy1.get_area())\n",
    "print(cy1.get_volume())"
   ]
  },
  {
   "cell_type": "code",
   "execution_count": 17,
   "id": "b36e9c0a",
   "metadata": {},
   "outputs": [
    {
     "name": "stdout",
     "output_type": "stream",
     "text": [
      "['__class__', '__delattr__', '__dict__', '__dir__', '__doc__', '__eq__', '__format__', '__ge__', '__getattribute__', '__gt__', '__hash__', '__init__', '__init_subclass__', '__le__', '__lt__', '__module__', '__ne__', '__new__', '__reduce__', '__reduce_ex__', '__repr__', '__setattr__', '__sizeof__', '__str__', '__subclasshook__', '__weakref__', 'get_area', 'get_volume', 'height', 'radius', 'shape_object']\n"
     ]
    }
   ],
   "source": [
    "print(dir(cy1))"
   ]
  },
  {
   "cell_type": "markdown",
   "id": "5243335a",
   "metadata": {},
   "source": [
    "### Types of Inheritance in Python\n",
    "\n",
    "* There are 5 Types of inheritance in Python\n",
    "\n",
    ">Single inheritance.\n",
    "\n",
    ">Multiple inheritance\n",
    "\n",
    ">Multilevel inheritance\n",
    "\n",
    ">Hierarchical inheritance\n",
    "\n",
    ">Hybrid inheritance"
   ]
  },
  {
   "cell_type": "markdown",
   "id": "6fb1ddaf",
   "metadata": {},
   "source": [
    "## 1. Single Inheritance\n",
    "\n",
    "* Only 1 base class and 1 derived class is called Single inheritance."
   ]
  },
  {
   "cell_type": "code",
   "execution_count": 19,
   "id": "eebef8c5",
   "metadata": {},
   "outputs": [
    {
     "name": "stdout",
     "output_type": "stream",
     "text": [
      "This is India !\n",
      "This is State !\n"
     ]
    }
   ],
   "source": [
    "class Country:\n",
    "    def showCountry(self):\n",
    "        print('This is India !')\n",
    "\n",
    "class State(Country):\n",
    "    def showState(self):\n",
    "        print('This is State !')\n",
    "        \n",
    "st = State()\n",
    "st.showCountry()\n",
    "st.showState()"
   ]
  },
  {
   "cell_type": "markdown",
   "id": "ab5048fb",
   "metadata": {},
   "source": [
    "### 2. Multiple inheritance\n",
    "\n",
    "* When a derived class contains more than 1 base class is called Multiple inheritance."
   ]
  },
  {
   "cell_type": "code",
   "execution_count": 29,
   "id": "05eaab9f",
   "metadata": {},
   "outputs": [
    {
     "name": "stdout",
     "output_type": "stream",
     "text": [
      "studebt no. :  60\n",
      "student name :  Nitesh\n",
      "Mark1 :  89\n",
      "Mark2 :  78\n",
      "Total  :  167\n",
      "haha, pad le thoda!\n"
     ]
    }
   ],
   "source": [
    "class Student:\n",
    "    def method1(self, sno, sname):\n",
    "        self.sno = sno\n",
    "        self.sname = sname\n",
    "        \n",
    "    def method2(self):\n",
    "        print('studebt no. : ',self.sno)\n",
    "        print('student name : ',self.sname)\n",
    "\n",
    "\n",
    "class Marks:\n",
    "    def setmarks(self, m1, m2):\n",
    "        self.m1 = m1\n",
    "        self.m2 = m2\n",
    "        \n",
    "    def putmarks(self):\n",
    "        print('Mark1 : ',self.m1)\n",
    "        print('Mark2 : ',self.m2)\n",
    "        \n",
    "class result(Marks,Student):\n",
    "    def calc(self):\n",
    "        self.total = self.m1 + self.m2\n",
    "    \n",
    "    def puttotal(self):\n",
    "        print(\"Total  : \", self.total)\n",
    "        if self.total <180:\n",
    "            print('haha, pad le thoda!')\n",
    "        \n",
    "r = result()\n",
    "\n",
    "r.method1(60, 'Nitesh')\n",
    "r.setmarks(89, 78)\n",
    "r.calc()\n",
    "r.method2()\n",
    "r.putmarks()\n",
    "r.puttotal()"
   ]
  },
  {
   "cell_type": "markdown",
   "id": "b18d31f4",
   "metadata": {},
   "source": [
    "### 3. Multilevel inheritance\n",
    "\n",
    "* A derived class derived from base class which is again derived from class.\n",
    "\n",
    "A->B->C->D->E"
   ]
  },
  {
   "cell_type": "code",
   "execution_count": 30,
   "id": "7c7b22e7",
   "metadata": {},
   "outputs": [
    {
     "name": "stdout",
     "output_type": "stream",
     "text": [
      "studebt no. :  450\n",
      "student name :  Swara\n",
      "Mark1 :  98\n",
      "Mark2 :  88\n",
      "Total  :  186\n",
      "Oho, You r topper dude!\n"
     ]
    }
   ],
   "source": [
    "class Student:\n",
    "    def method1(self, sno, sname):\n",
    "        self.sno = sno\n",
    "        self.sname = sname\n",
    "        \n",
    "    def method2(self):\n",
    "        print('studebt no. : ',self.sno)\n",
    "        print('student name : ',self.sname)\n",
    "\n",
    "\n",
    "class Marks(Student):\n",
    "    def setmarks(self, m1, m2):\n",
    "        self.m1 = m1\n",
    "        self.m2 = m2\n",
    "        \n",
    "    def putmarks(self):\n",
    "        print('Mark1 : ',self.m1)\n",
    "        print('Mark2 : ',self.m2)\n",
    "        \n",
    "class result(Marks):\n",
    "    def calc(self):\n",
    "        self.total = self.m1 + self.m2\n",
    "    \n",
    "    def puttotal(self):\n",
    "        print(\"Total  : \", self.total)\n",
    "        if self.total >180:\n",
    "            print('Oho, You r topper dude!')\n",
    "        \n",
    "r = result()\n",
    "\n",
    "r.method1(450, 'Swara')\n",
    "r.setmarks(98, 88)\n",
    "r.calc()\n",
    "r.method2()\n",
    "r.putmarks()\n",
    "r.puttotal()"
   ]
  },
  {
   "cell_type": "markdown",
   "id": "12c36031",
   "metadata": {},
   "source": [
    "### 4. Hierarchial inheritance\n",
    "\n",
    "* A one base class contains more than one derived class.\n",
    "\n",
    "father -> child1 and child2"
   ]
  },
  {
   "cell_type": "code",
   "execution_count": 35,
   "id": "6b6684f3",
   "metadata": {},
   "outputs": [
    {
     "name": "stdout",
     "output_type": "stream",
     "text": [
      "This is a method in class ONE!\n",
      "value of x :  1000\n",
      "value of y :  2000\n",
      "This is a method in class ONE!\n",
      "value of x :  1000\n",
      "value of y :  2000\n",
      "\n",
      "This is a method in class TWO!\n",
      "Addition of  x + y  :  3000\n",
      "\n",
      "This is a method in class THREE!\n",
      "Multiplication of  x * y  :  2000000\n"
     ]
    }
   ],
   "source": [
    "class One:\n",
    "    def display(self):\n",
    "        self.x = 1000\n",
    "        self.y = 2000\n",
    "        print(\"This is a method in class ONE!\")\n",
    "        print('value of x : ',self.x)\n",
    "        print('value of y : ',self.y)\n",
    "\n",
    "class Two(One):\n",
    "    def add(self):\n",
    "        print(\"This is a method in class TWO!\")\n",
    "        print('Addition of  x + y  : ',self.x + self.y)\n",
    "\n",
    "class Three(One):\n",
    "    def mul(self):\n",
    "        print(\"This is a method in class THREE!\")\n",
    "        print('Multiplication of  x * y  : ',self.x * self.y)\n",
    "        \n",
    "t1 =Two()\n",
    "t2 =Three()\n",
    "\n",
    "t1.display()\n",
    "t2.display()\n",
    "\n",
    "print()\n",
    "t1.add()\n",
    "print()\n",
    "t2.mul()\n"
   ]
  },
  {
   "cell_type": "markdown",
   "id": "99236612",
   "metadata": {},
   "source": [
    "### 5.Hybrid Inheritance\n",
    "\n",
    "* It combines multiple inheritances with multilevel inheritance. "
   ]
  },
  {
   "cell_type": "code",
   "execution_count": 36,
   "id": "33798a78",
   "metadata": {},
   "outputs": [
    {
     "name": "stdout",
     "output_type": "stream",
     "text": [
      "This function is in Office.\n",
      "This function is in Employee 1.\n"
     ]
    }
   ],
   "source": [
    "class Office:\n",
    "\n",
    "    def func1(self):\n",
    "        print ('This function is in Office.')\n",
    "\n",
    "class Emp1(Office):\n",
    "\n",
    "    def func2(self):\n",
    "        print ('This function is in Employee 1.')\n",
    "\n",
    "class Emp2:\n",
    "\n",
    "    def func3(self):\n",
    "        print ('This function is in Employee 2.')\n",
    "\n",
    "class Emp3(Emp1, Emp2):\n",
    "\n",
    "    def func4(self):\n",
    "        print ('This function is in Employee 3.')\n",
    "\n",
    "# Driver's code\n",
    "\n",
    "object = Emp3()\n",
    "object.func1()\n",
    "object.func2()"
   ]
  },
  {
   "cell_type": "markdown",
   "id": "921e4378",
   "metadata": {},
   "source": [
    "***\n",
    "## Polymorphism\n",
    "\n",
    "* The term polymorphism, in the OOP language, refers to the ability of an object to adapt the code to\n",
    "\n",
    "the type of the data it is processing.\n",
    "\n",
    "\n",
    "* In Python polymorphism is one of the key concepts, and we can say that it is a built-in feature\n",
    "\n",
    "__Example 1:__ Polymorphism in addition operator We know that the operator is used extensively in Python programs. But, it does not have a single usage.\n",
    "\n",
    "For integer data types, + operator\n",
    "\n",
    "* is used to perform arithmetic addition operation.\n",
    "\n",
    "* for string data types, + operator is used to perform concatenation\n"
   ]
  },
  {
   "cell_type": "code",
   "execution_count": 37,
   "id": "1f935ca7",
   "metadata": {},
   "outputs": [
    {
     "name": "stdout",
     "output_type": "stream",
     "text": [
      "3\n"
     ]
    }
   ],
   "source": [
    "num1 = 1\n",
    "num2 = 2\n",
    "\n",
    "print(num1+num2)"
   ]
  },
  {
   "cell_type": "code",
   "execution_count": 38,
   "id": "4d9468b2",
   "metadata": {},
   "outputs": [
    {
     "name": "stdout",
     "output_type": "stream",
     "text": [
      "PythonProgramming\n"
     ]
    }
   ],
   "source": [
    "str1 = 'Python'\n",
    "str2 = 'Programming'\n",
    "\n",
    "print(str1+str2)"
   ]
  },
  {
   "cell_type": "markdown",
   "id": "c40d33ae",
   "metadata": {},
   "source": [
    "* Here, we can see that a single operator + has been used to carry out different operations for distinct data types\n",
    "\n",
    "* is one of the most simple occurrences of polymorphism in Python.\n"
   ]
  },
  {
   "cell_type": "code",
   "execution_count": 40,
   "id": "e52909b1",
   "metadata": {},
   "outputs": [
    {
     "name": "stdout",
     "output_type": "stream",
     "text": [
      "8\n"
     ]
    }
   ],
   "source": [
    "# using + operator with integers to add them\n",
    "print(5+3)"
   ]
  },
  {
   "cell_type": "markdown",
   "id": "ebcd7a84",
   "metadata": {},
   "source": [
    "__Example 2:__ Polymorphic len() function\n",
    "\n",
    "* There are some functions in Python which are compatible to run with multiple data types.\n",
    "\n",
    "*  One such function is the len() function. It can run with many data types in Python."
   ]
  },
  {
   "cell_type": "code",
   "execution_count": 43,
   "id": "82712561",
   "metadata": {},
   "outputs": [
    {
     "name": "stdout",
     "output_type": "stream",
     "text": [
      "9\n",
      "3\n",
      "2\n"
     ]
    }
   ],
   "source": [
    "print(len(\"Programiz\"))\n",
    "print(len([\"Python\", \"Jave\", \"C\"]))\n",
    "print(len({\"Name\" : 'John',  \"Address\": \"Nepal\"}))\n"
   ]
  },
  {
   "cell_type": "markdown",
   "id": "0de2c211",
   "metadata": {},
   "source": [
    "* Here, we can see that many data types such as string list, tuple set, and dictionary can work with the Len() function.\n",
    "\n",
    "* But it returns specific information about specific data types."
   ]
  },
  {
   "cell_type": "markdown",
   "id": "f0e876e6",
   "metadata": {},
   "source": [
    "### 1. Polymorphism through Method overloading\n",
    "\n",
    "* Method overloading in its traditional sense, where you can have more than one method having the same name with in the class where the methods differ in types or number of arguments passed, is __not supported Python__\n",
    "\n",
    "\n",
    "* Trying to have methods with same name won't result in compile time error in Python but only the last defined method is recognized in such scenario, calling any other overloaded function results in an error.\n",
    "\n",
    "\n",
    "* But you can still simulate polymorphism through method overloading by using default arguments in a method.\n",
    "\n",
    "  - In the example there is 1 default argument in the method sum.\n",
    "\n",
    "  - If the method is called with 2 parameters for the 3rd default value is used.\n",
    "\n",
    "  - if the method is called with 3 parameters passed value is used for the 3rd parameter."
   ]
  },
  {
   "cell_type": "code",
   "execution_count": 44,
   "id": "92a6c5dd",
   "metadata": {},
   "outputs": [
    {
     "name": "stdout",
     "output_type": "stream",
     "text": [
      "Sum is :  15\n",
      "Sum is :  24\n"
     ]
    }
   ],
   "source": [
    "# if we simulate\n",
    "class OverloadDemo:\n",
    "    #sum method woth one default parameter\n",
    "    def sum(self, a, b, c=0):\n",
    "        s = a+b+c\n",
    "        return s\n",
    "od = OverloadDemo()\n",
    "\n",
    "#calling method with 2 args\n",
    "sum = od.sum(7,8)\n",
    "print('Sum is : ',sum)\n",
    "\n",
    "#calling method with 3 args\n",
    "sum = od.sum(7,8,9)\n",
    "print('Sum is : ',sum)\n"
   ]
  },
  {
   "cell_type": "markdown",
   "id": "7ba4f043",
   "metadata": {},
   "source": [
    "### 2. Polymorphism through inheritance- Method overriding\n",
    "\n",
    "* Method overriding provides ability to chars the implementation of a method in a child class which is already defined in one of its super class.\n",
    "\n",
    "\n",
    "* If there is a method in a super class and method having the same name and same number of arguments in a child class then the child class method is said to be overriding the parent class method.\n",
    "\n",
    "\n",
    "* calling methods\n",
    "\n",
    "     - When the method is called with parent class object, method of the parent class is executed. \n",
    "     - When method is called with child class object method of the child class is executed.\n",
    "\n",
    "\n",
    "* So the appropriate overridden method is called based on the object type which is an example of Polymorphism"
   ]
  },
  {
   "cell_type": "code",
   "execution_count": 57,
   "id": "f7aa209e",
   "metadata": {},
   "outputs": [
    {
     "name": "stdout",
     "output_type": "stream",
     "text": [
      "In parent class displayData method\n",
      "John\n",
      "45\n",
      "\n",
      "In child class displayData method\n",
      "John\n",
      "45\n",
      "ABS12\n"
     ]
    }
   ],
   "source": [
    "class Person:\n",
    "    def __init__(self, name, age):\n",
    "        self.name = name\n",
    "        self.age = age\n",
    "\n",
    "    def displayData(self):\n",
    "        print(\"In parent class displayData method\")\n",
    "        print(self.name)\n",
    "        print(self.age)\n",
    "\n",
    "class Employee(Person):\n",
    "    def __init__(self, name, age, id):\n",
    "        super().__init__(name, age) #calling constructor of super class\n",
    "        self.empId = id\n",
    "\n",
    "    def displayData(self):\n",
    "        print('In child class displayData method')\n",
    "        print(self.name)\n",
    "        print(self.age)\n",
    "        print(self.empId)\n",
    "        \n",
    "person = Person('John', 45)\n",
    "person.displayData()\n",
    "print()\n",
    "emp = Employee('John', 45,'ABS12')\n",
    "emp.displayData()"
   ]
  },
  {
   "cell_type": "markdown",
   "id": "f039d3c4",
   "metadata": {},
   "source": [
    "### 3.Polymorphism through operator overloading\n",
    "\n",
    "* Operator overloading means the ability to overload the operator to provide extra functionality in addition to its real operational meaning.\n",
    "\n",
    "   - Operator overloading is also an example of polymorphism as the same operator which is used with numbers to perform addition operation different actions.\n",
    "\n",
    "*  For example '+' operator which is used with numbers to perform addition operation. But '+' operator when used with two strings concatenate those Strings and merge two lists when used with lists in Python\n",
    "\n",
    "### When is Operator overloading required\n",
    "\n",
    "* In the above example '+' operator worked with __Strings__ and __Lists__ because it is already overloaded to provide that functionality for String and List.\n",
    "\n",
    "* What if you want to use operator with custom objects\n",
    "\n",
    "* For example if you want to use '+' operator with your custom class objects."
   ]
  },
  {
   "cell_type": "code",
   "execution_count": 59,
   "id": "98aad6d4",
   "metadata": {},
   "outputs": [
    {
     "ename": "TypeError",
     "evalue": "unsupported operand type(s) for +: 'Point' and 'Point'",
     "output_type": "error",
     "traceback": [
      "\u001b[1;31m---------------------------------------------------------------------------\u001b[0m",
      "\u001b[1;31mTypeError\u001b[0m                                 Traceback (most recent call last)",
      "\u001b[1;32m~\\AppData\\Local\\Temp\\ipykernel_844\\783081573.py\u001b[0m in \u001b[0;36m<module>\u001b[1;34m\u001b[0m\n\u001b[0;32m      6\u001b[0m \u001b[0mp1\u001b[0m \u001b[1;33m=\u001b[0m \u001b[0mPoint\u001b[0m\u001b[1;33m(\u001b[0m\u001b[1;36m2\u001b[0m\u001b[1;33m,\u001b[0m \u001b[1;36m3\u001b[0m\u001b[1;33m)\u001b[0m\u001b[1;33m\u001b[0m\u001b[1;33m\u001b[0m\u001b[0m\n\u001b[0;32m      7\u001b[0m \u001b[0mp2\u001b[0m \u001b[1;33m=\u001b[0m \u001b[0mPoint\u001b[0m\u001b[1;33m(\u001b[0m\u001b[1;36m3\u001b[0m\u001b[1;33m,\u001b[0m \u001b[1;36m4\u001b[0m\u001b[1;33m)\u001b[0m\u001b[1;33m\u001b[0m\u001b[1;33m\u001b[0m\u001b[0m\n\u001b[1;32m----> 8\u001b[1;33m \u001b[0mprint\u001b[0m\u001b[1;33m(\u001b[0m\u001b[0mp1\u001b[0m\u001b[1;33m+\u001b[0m\u001b[0mp2\u001b[0m\u001b[1;33m)\u001b[0m\u001b[1;33m\u001b[0m\u001b[1;33m\u001b[0m\u001b[0m\n\u001b[0m",
      "\u001b[1;31mTypeError\u001b[0m: unsupported operand type(s) for +: 'Point' and 'Point'"
     ]
    }
   ],
   "source": [
    "class Point:\n",
    "    def __init__(self,x,y):\n",
    "        self.x = x\n",
    "        self.y = y\n",
    "        \n",
    "p1 = Point(2, 3)\n",
    "p2 = Point(3, 4)\n",
    "print(p1+p2)"
   ]
  },
  {
   "cell_type": "markdown",
   "id": "7ec330fa",
   "metadata": {},
   "source": [
    "* As you can see trying to add two objects results in an error 'unsupported operand type(s) for +' because '+' operator doesn't know how to add these two objects."
   ]
  },
  {
   "cell_type": "markdown",
   "id": "69a9a18c",
   "metadata": {},
   "source": [
    "* What we want to do here is to add the data (p1.x + p2.x) and (p1.y + p2.y) of these two objects but that will require operator overloading as that is some extra functionality that you want '+' operator to perform."
   ]
  },
  {
   "cell_type": "markdown",
   "id": "dd49829f",
   "metadata": {},
   "source": [
    "* For all operators internally Python defines methods to provide functionality for those operators.\n",
    "\n",
    "> example functionality for '+' operator is provide by special method __add().__\n",
    "\n",
    "> Whenever '+' operator is used internally add() method is invoked to do the operation.\n",
    "\n",
    "\n",
    "* Internal methods that provide functionality for the operators are known as magic methods in\n",
    "Python."
   ]
  },
  {
   "cell_type": "markdown",
   "id": "aadd57d5",
   "metadata": {},
   "source": [
    "* These magic methods are automatically invoked when corresponding operators are used."
   ]
  },
  {
   "cell_type": "markdown",
   "id": "e85cdff7",
   "metadata": {},
   "source": [
    "* When we want any operator to work with custom objects you need to override the corresponding special method that provides functionality for that operator."
   ]
  },
  {
   "cell_type": "markdown",
   "id": "5bbf8883",
   "metadata": {},
   "source": [
    "* In the example there is a class Point with two variables x and y. Two objects of Point class are instantiated and you try to add those objects with the intention to add the data ( p1.x + p2.x) and ( p1.y + p2.y) of these two objects."
   ]
  },
  {
   "cell_type": "markdown",
   "id": "b4e1beda",
   "metadata": {},
   "source": [
    "* In order to successfully do that magic method _ __add___() has to be override in your class to provide that functionality"
   ]
  },
  {
   "cell_type": "code",
   "execution_count": 67,
   "id": "acf20c43",
   "metadata": {},
   "outputs": [
    {
     "name": "stdout",
     "output_type": "stream",
     "text": [
      "(4, 6)\n"
     ]
    }
   ],
   "source": [
    "class Point:\n",
    "    def __init__(self, x, y):\n",
    "        self.x = x\n",
    "        self.y = y\n",
    "        #overriding magic method\n",
    "    def __add__(self, other):\n",
    "        return (self.x+ other.x, self.y + other.y)\n",
    "\n",
    "p1 = Point(1,2)\n",
    "p2 = Point(3, 4)\n",
    "\n",
    "print(p1+p2)"
   ]
  },
  {
   "cell_type": "markdown",
   "id": "f89b9ab4",
   "metadata": {},
   "source": [
    "***\n",
    "## Magic Method in Python"
   ]
  },
  {
   "cell_type": "markdown",
   "id": "c83a048a",
   "metadata": {},
   "source": [
    "> Magic methods in Python are the methods prefixed with two underscores and suffixed with two underscores.\n",
    "\n",
    "> These magic methods are also known as Dunders (Double UNDERscores) in Python."
   ]
  },
  {
   "cell_type": "markdown",
   "id": "5e9d6da1",
   "metadata": {},
   "source": [
    "## What is a function in Python?\n",
    "***\n",
    "* In Python, a function is a group of related statements that performs a specific task."
   ]
  },
  {
   "cell_type": "markdown",
   "id": "298789d0",
   "metadata": {},
   "source": [
    "* Functions help break our program into smaller and modular chunks."
   ]
  },
  {
   "cell_type": "markdown",
   "id": "14d14c37",
   "metadata": {},
   "source": [
    "* As our program grows larger and larger functions make it more organized and manageable."
   ]
  },
  {
   "cell_type": "markdown",
   "id": "0f8d3eae",
   "metadata": {},
   "source": [
    "* Furthermore, it avoids repetition and makes the code reusable."
   ]
  },
  {
   "cell_type": "markdown",
   "id": "a94dca19",
   "metadata": {},
   "source": [
    "### Syntax of function"
   ]
  },
  {
   "cell_type": "code",
   "execution_count": 3,
   "id": "2607938b",
   "metadata": {},
   "outputs": [],
   "source": [
    "def function_name(parameters):\n",
    "    'This function does nothing.'\n",
    "    statement(s)"
   ]
  },
  {
   "cell_type": "markdown",
   "id": "1e943d21",
   "metadata": {},
   "source": [
    "* Keyword def that marks the start of the function header.\n",
    "\n",
    "\n",
    "* A function name to uniquely identify the function.\n",
    "\n",
    "\n",
    "* Parameters (arguments) through which we pass values to a function.\n",
    "\n",
    "   > They are optional.\n",
    "\n",
    "   > A colon (:) to mark the end of the function header.\n",
    "   \n",
    "   > Optional documentation string (docstring) to describe what the function does.\n",
    "\n",
    "   > One or more valid python statements that make up the function body.\n",
    "\n",
    "   > Statements must have the same indentation level (usually 4 spaces).\n",
    "\n",
    "   > An optional return statement to return a value from the funtion"
   ]
  },
  {
   "cell_type": "markdown",
   "id": "1fa1dba7",
   "metadata": {},
   "source": [
    "#### Docstrings (\" \")\n",
    "\n",
    "* The first string after the function header is called the docstring and is short for documentation string.\n",
    "\n",
    "\n",
    "* It is briefly used to explain what a function does."
   ]
  },
  {
   "cell_type": "code",
   "execution_count": 18,
   "id": "d1eb541d",
   "metadata": {},
   "outputs": [],
   "source": [
    " # print(function_name._doc_)"
   ]
  },
  {
   "cell_type": "code",
   "execution_count": 16,
   "id": "6000f0ff",
   "metadata": {},
   "outputs": [],
   "source": [
    "def greet(name):\n",
    "    \"\"\"\n",
    "        This function greets to \n",
    "    the person passed in as a parameter.\n",
    "    \"\"\"\n",
    "    \n",
    "    print(\"Hello, \"+ name + \" Good morning!\")"
   ]
  },
  {
   "cell_type": "code",
   "execution_count": 21,
   "id": "1bd6a584",
   "metadata": {},
   "outputs": [
    {
     "name": "stdout",
     "output_type": "stream",
     "text": [
      "Hello, Nitesh Good morning!\n"
     ]
    }
   ],
   "source": [
    "greet('Nitesh')"
   ]
  },
  {
   "cell_type": "code",
   "execution_count": 22,
   "id": "3a9c93e1",
   "metadata": {},
   "outputs": [
    {
     "name": "stdout",
     "output_type": "stream",
     "text": [
      "\n",
      "        This function greets to \n",
      "    the person passed in as a parameter.\n",
      "    \n"
     ]
    }
   ],
   "source": [
    "print(greet.__doc__)"
   ]
  },
  {
   "cell_type": "code",
   "execution_count": null,
   "id": "cfd05cb2",
   "metadata": {},
   "outputs": [],
   "source": []
  },
  {
   "cell_type": "markdown",
   "id": "ad56df51",
   "metadata": {},
   "source": [
    "***\n",
    "## Scope and Lifetime of variables\n",
    "\n",
    "* Scope of a variable is the portion of a program where the variable is recognized.\n",
    "\n",
    "\n",
    "* Parameters and variables defined inside a function are not visible from outside the function. Hence, they have a local scope.\n",
    "\n",
    "\n",
    "* The lifetime of a variable is the period throughout which the variable exists in the memory. The lifetime of variables inside a function is as long as the function executes.\n",
    "\n",
    "\n",
    "* They are destroyed once we return from the function.\n",
    "\n",
    "\n",
    "* Hence, a function does not remember the value of a variable from its previous calls.\n",
    "\n",
    "\n",
    "Here is an example to illustrate the scope of a variable inside a function."
   ]
  },
  {
   "cell_type": "code",
   "execution_count": 23,
   "id": "a371a80b",
   "metadata": {},
   "outputs": [],
   "source": [
    "def my_func(): \n",
    "    my_var = 10 \n",
    "    print(\"Value inside function:\", my_var)\n",
    "\n"
   ]
  },
  {
   "cell_type": "code",
   "execution_count": 24,
   "id": "446ada13",
   "metadata": {},
   "outputs": [
    {
     "name": "stdout",
     "output_type": "stream",
     "text": [
      "Value inside function: 19\n",
      "Value outside function:  20\n"
     ]
    }
   ],
   "source": [
    "my_var =  20\n",
    "\n",
    "my_func() # value of my_vor changes inside the function\n",
    "\n",
    "print(\"Value outside function: \", my_var)"
   ]
  },
  {
   "cell_type": "markdown",
   "id": "4c63168b",
   "metadata": {},
   "source": [
    "* the value of my_var is 20 initially.\n",
    "\n",
    "\n",
    "* Even though the function my_func() changed the value of __my_var__ to 10, it did not affect the value outside the function\n",
    "\n",
    "\n",
    "* This is because the variable my_var inside the function is different (local to the function) from the one outside.\n",
    "\n",
    "\n",
    "      - Although they have the same names, they are two different variables with different scopes\n",
    "\n",
    "#### the other side of it... global variables"
   ]
  },
  {
   "cell_type": "code",
   "execution_count": 26,
   "id": "f05cb8e6",
   "metadata": {},
   "outputs": [],
   "source": [
    "def my_func(): \n",
    "    my_var = 10 \n",
    "    print(\"Value inside function:\", my_var)\n",
    "    print(\"Varialbe from outside the function: \", another_var)"
   ]
  },
  {
   "cell_type": "code",
   "execution_count": 28,
   "id": "2508f416",
   "metadata": {},
   "outputs": [
    {
     "name": "stdout",
     "output_type": "stream",
     "text": [
      "Value inside function: 10\n",
      "Varialbe from outside the function:  200\n",
      "Value outside function:  20\n"
     ]
    }
   ],
   "source": [
    "my_var = 20\n",
    "another_var = 200\n",
    "\n",
    "my_func()\n",
    "print(\"Value outside function: \", my_var)"
   ]
  },
  {
   "cell_type": "markdown",
   "id": "0aaf4fc1",
   "metadata": {},
   "source": [
    "So variables outside of the function are visible from inside. They have a global scope.\n",
    "\n",
    "\n",
    "We can read these values from inside the function.\n",
    "\n",
    "__but inside a function, the outside variable cannot be changed unless we declare it with 'global' keyword.__\n",
    "\n",
    ">In order to modify the value of variables outside the function, they must be declared as global variables using the keyword __'global'__.\n"
   ]
  },
  {
   "cell_type": "code",
   "execution_count": 36,
   "id": "91a52c6c",
   "metadata": {},
   "outputs": [],
   "source": [
    "def my_func():\n",
    "    print(\"Value inside function\", my_var)\n",
    "\n",
    "    another_war += 1\n",
    "\n",
    "    print(\"Variable from outside the function:\",)\n",
    "\n",
    "    another_var"
   ]
  },
  {
   "cell_type": "code",
   "execution_count": 34,
   "id": "616fd09e",
   "metadata": {},
   "outputs": [],
   "source": [
    "def my_func(): \n",
    "    my_var = 10 \n",
    "    global another_var\n",
    "\n",
    "    print(\"Value inside function:\", my_var)\n",
    "\n",
    "    another_var += 1\n",
    "\n",
    "    print(\"Variable from outside the function: \", another_var)"
   ]
  },
  {
   "cell_type": "code",
   "execution_count": 35,
   "id": "57a1e100",
   "metadata": {},
   "outputs": [
    {
     "name": "stdout",
     "output_type": "stream",
     "text": [
      "Value inside function: 10\n",
      "Variable from outside the function:  201\n",
      "Value outside function: 20\n"
     ]
    }
   ],
   "source": [
    "my_var = 20 \n",
    "another_var = 200\n",
    "\n",
    "my_func()      #value of my var changes inside the function\n",
    "\n",
    "print(\"Value outside function:\", my_var)"
   ]
  },
  {
   "cell_type": "markdown",
   "id": "a8fcd5d3",
   "metadata": {},
   "source": [
    "***\n",
    "#### Types of Functions\n",
    "\n",
    "Basically, we can divide functions into the following 3 types:\n",
    "\n",
    "* __Built-in functions__ - Functions that are built into Python.\n",
    "\n",
    "\n",
    "* __User-defined functions__ - Functions defined by the users themselves.\n",
    "\n",
    "\n",
    "* __Anonymous functions__ - which are also called lambda functions"
   ]
  },
  {
   "cell_type": "markdown",
   "id": "5463be19",
   "metadata": {},
   "source": [
    "***\n",
    "### Function Arguments in Python.\n",
    "\n",
    "* There are 4 types of arguments that Python UDFs can take:\n",
    "\n",
    "   __1.Default arguments__\n",
    "\n",
    "   __2.Required arguments__\n",
    "\n",
    "   __3.Keyword arguments__\n",
    "\n",
    "   __4.Variable number of arguments__\n",
    "\n",
    "***\n",
    "\n",
    "### Default Arguments\n",
    "\n",
    "* take a default value if no argument value is passed \n",
    "\n",
    "\n",
    "* You can assign this default value by with the assignment operator =\n"
   ]
  },
  {
   "cell_type": "code",
   "execution_count": 37,
   "id": "c612f2f1",
   "metadata": {},
   "outputs": [],
   "source": [
    "# Define \"plus() function\n",
    "def plus(a, b = 2): \n",
    "    return a+b"
   ]
  },
  {
   "cell_type": "code",
   "execution_count": 38,
   "id": "498c69c1",
   "metadata": {},
   "outputs": [
    {
     "name": "stdout",
     "output_type": "stream",
     "text": [
      "4\n"
     ]
    }
   ],
   "source": [
    "print(plus(2))       # a with value and b with default value"
   ]
  },
  {
   "cell_type": "code",
   "execution_count": 39,
   "id": "d4eba3b7",
   "metadata": {},
   "outputs": [
    {
     "name": "stdout",
     "output_type": "stream",
     "text": [
      "92\n"
     ]
    }
   ],
   "source": [
    "print(plus(3, 89))    #call with a, b values"
   ]
  },
  {
   "cell_type": "markdown",
   "id": "395c2787",
   "metadata": {},
   "source": [
    "### Required Arguments\n",
    "\n",
    "* The required arguments of a function are those that have to be in there."
   ]
  },
  {
   "cell_type": "code",
   "execution_count": 41,
   "id": "9b1d519b",
   "metadata": {},
   "outputs": [
    {
     "data": {
      "text/plain": [
       "30"
      ]
     },
     "execution_count": 41,
     "metadata": {},
     "output_type": "execute_result"
    }
   ],
   "source": [
    "# Define `plus()`  with required arguments \n",
    "def plus (a, b) :\n",
    "    return a + b\n",
    "\n",
    "plus ( b = 10, a = 20 )"
   ]
  },
  {
   "cell_type": "code",
   "execution_count": 42,
   "id": "89aea631",
   "metadata": {},
   "outputs": [
    {
     "ename": "TypeError",
     "evalue": "plus() missing 1 required positional argument: 'a'",
     "output_type": "error",
     "traceback": [
      "\u001b[1;31m---------------------------------------------------------------------------\u001b[0m",
      "\u001b[1;31mTypeError\u001b[0m                                 Traceback (most recent call last)",
      "\u001b[1;32m~\\AppData\\Local\\Temp\\ipykernel_2844\\1075839874.py\u001b[0m in \u001b[0;36m<module>\u001b[1;34m\u001b[0m\n\u001b[1;32m----> 1\u001b[1;33m \u001b[0mplus\u001b[0m \u001b[1;33m(\u001b[0m \u001b[0mb\u001b[0m \u001b[1;33m=\u001b[0m \u001b[1;36m10\u001b[0m \u001b[1;33m)\u001b[0m\u001b[1;33m\u001b[0m\u001b[1;33m\u001b[0m\u001b[0m\n\u001b[0m",
      "\u001b[1;31mTypeError\u001b[0m: plus() missing 1 required positional argument: 'a'"
     ]
    }
   ],
   "source": [
    "plus ( b = 10 )"
   ]
  },
  {
   "cell_type": "markdown",
   "id": "d6137902",
   "metadata": {},
   "source": [
    "### Variable Number of Arguments\n",
    "\n",
    "> In cases where you don't know the exact number of arguments that you want to pass to a function, you can use the following syntax with __*args__\n"
   ]
  },
  {
   "cell_type": "code",
   "execution_count": 46,
   "id": "10d66f6f",
   "metadata": {},
   "outputs": [
    {
     "name": "stdout",
     "output_type": "stream",
     "text": [
      "6\n"
     ]
    }
   ],
   "source": [
    "def my_sum(my_integers):\n",
    "    result = 0\n",
    "    for x in my_integers: \n",
    "        result += x\n",
    "    return result\n",
    "\n",
    "list_of_integers = [1, 2, 3]\n",
    "\n",
    "print(my_sum(list_of_integers))\n"
   ]
  },
  {
   "cell_type": "markdown",
   "id": "2f6fa6d8",
   "metadata": {},
   "source": [
    "* This implementation works, but whenever you call this function you'll also need to create a list of arguments to pass to it.\n",
    "\n",
    "\n",
    "* This can be inconvenient, especially if you don't know up front all the values that should go into the list.\n",
    "\n",
    "\n",
    "* This is where *args can be really useful"
   ]
  },
  {
   "cell_type": "code",
   "execution_count": 48,
   "id": "b9fd4e85",
   "metadata": {},
   "outputs": [
    {
     "name": "stdout",
     "output_type": "stream",
     "text": [
      "6\n",
      "34\n"
     ]
    }
   ],
   "source": [
    "def my_sum(*args):\n",
    "    result = 0\n",
    "    for x in args: \n",
    "        result += x\n",
    "    return result\n",
    "\n",
    "print(my_sum(1, 2, 3))\n",
    "print(my_sum(1, 2, 3, 7, 9, 7, 5))"
   ]
  },
  {
   "cell_type": "markdown",
   "id": "f3c8efe8",
   "metadata": {},
   "source": [
    "##### Using the Python kwargs Variable in Function Definitions\n",
    "\n",
    ">__**kwargs__ works just like __*args__, but instead of accepting positional arguments it accepts keyword (or named) arguments."
   ]
  },
  {
   "cell_type": "code",
   "execution_count": 54,
   "id": "e9c8306b",
   "metadata": {},
   "outputs": [
    {
     "name": "stdout",
     "output_type": "stream",
     "text": [
      "PythonIscool!\n"
     ]
    }
   ],
   "source": [
    "def concatenate(**kwargs):\n",
    "\n",
    "    result =\"\"\n",
    "\n",
    "    # Iterating over the Python kewargs dictionary \n",
    "    \n",
    "    for arg in kwargs.values():\n",
    "        result += arg\n",
    "    return result\n",
    "\n",
    "print(concatenate( b=\"Python\", c=\"Is\", d=\"cool\", e=\"!\"))"
   ]
  },
  {
   "cell_type": "markdown",
   "id": "a805a4b5",
   "metadata": {},
   "source": [
    " - Like args, kwargs is just a name that can be changed to whatever you want\n",
    "\n",
    "\n",
    " ###### Also celled unpacking operator (**) "
   ]
  },
  {
   "cell_type": "markdown",
   "id": "bc69a602",
   "metadata": {},
   "source": [
    "# Abstraction\n",
    "\n",
    "* Abstraction is a programming methodology in which details of the programming code are hidden from the user—only the essential information is displayed. Abstraction focuses on ideas, rather than events. \n",
    "\n",
    "> Data Abstraction in Python can be achieved through creating abstract classes and inheriting them later.\n",
    "\n",
    "\n",
    "* __Abstract Class:__ The classes that cannot be instantiated. This means that we cannot create objects of an abstract class and these are only meant to be inherited. Then an object of the derived class is used to access the features of the base class. These are specifically defined to lay a foundation of other classes that exhibit common behavior or characteristics."
   ]
  },
  {
   "cell_type": "code",
   "execution_count": null,
   "id": "11e0f685",
   "metadata": {},
   "outputs": [],
   "source": [
    "from abc import ABC, abstractmethod\n",
    "\n",
    "class Animal(ABC):\n",
    "  @abstractmethod\n",
    "  def make_sound(self):\n",
    "    pass\n",
    "\n",
    "class Dog(Animal):\n",
    "  def make_sound(self):\n",
    "    print(\"Woof!\")\n",
    "\n",
    "class Cat(Animal):\n",
    "  def make_sound(self):\n",
    "    print(\"Meow!\")\n",
    "\n",
    "# Create a new Dog object\n",
    "dog = Dog()\n",
    "\n",
    "# Call the make_sound() method\n",
    "dog.make_sound()\n"
   ]
  },
  {
   "cell_type": "markdown",
   "id": "91747871",
   "metadata": {},
   "source": [
    "# Encapsulation\n",
    "\n",
    "* It is the process of wrapping data and the code that operates on that data into a single unit, called a class.\n",
    "\n",
    "\n",
    "* This provides several benefits, including:\n",
    "\n",
    "\n",
    " >__Data protection:__ Encapsulation helps to protect data from accidental or malicious modification.\n",
    "    \n",
    " >__Information hiding:__ Encapsulation hides the implementation details of a class, making it easier to maintain and update.\n",
    "    \n",
    "   >__Modularity:__ Encapsulation allows classes to be reused and combined in different ways, making code more modular and reusable."
   ]
  },
  {
   "cell_type": "code",
   "execution_count": 2,
   "id": "e7c56853",
   "metadata": {},
   "outputs": [
    {
     "name": "stdout",
     "output_type": "stream",
     "text": [
      "Selling Price: 900\n",
      "Selling Price: 900\n",
      "Selling Price: 1000\n"
     ]
    }
   ],
   "source": [
    "class Computer:\n",
    "\n",
    "    def __init__(self):\n",
    "        self.__maxprice = 900\n",
    "\n",
    "    def sell(self):\n",
    "        print(\"Selling Price: {}\".format(self.__maxprice))\n",
    "\n",
    "    def setMaxPrice(self, price):\n",
    "        self.__maxprice = price\n",
    "\n",
    "c = Computer()\n",
    "c.sell()\n",
    "\n",
    "# change the price\n",
    "c.__maxprice = 1000\n",
    "c.sell()\n",
    "\n",
    "# using setter function\n",
    "c.setMaxPrice(1000)\n",
    "c.sell()"
   ]
  },
  {
   "cell_type": "markdown",
   "id": "3bcd400a",
   "metadata": {},
   "source": [
    "* In this example, the Person class encapsulates the data and code related to a person.\n",
    "\n",
    "\n",
    "* The name and age attributes are private, meaning that they can only be accessed and modified by the class's methods.\n",
    "\n",
    "\n",
    "* This protects the data from accidental or malicious modification.\n",
    "\n",
    "* The greet() method is a public method, meaning that it can be called by any code outside of the Person class.\n",
    "\n",
    "\n",
    "However, the greet() method can only access and modify the name and age attributes through the class's private methods.\n",
    "\n",
    "\n",
    "* This hides the implementation details of the Person class and makes it easier to maintain and update."
   ]
  },
  {
   "cell_type": "markdown",
   "id": "bf8e4221",
   "metadata": {},
   "source": [
    "### Need of Encapsulation\n",
    "\n",
    "Encapsulation acts as a protective layer.\n",
    "> We can restrict access to methods and variables from outside, and It can prevent the data from being modified by accidental or unauthorized modification. Encapsulation provides security by hiding the data from the outside world.\n",
    "\n",
    "> **In Python, we do not have access modifiers directly, such as public, private, and protected. But we can achieve encapsulation by using single prefix underscore and double underscore to control access of variable and method within the Python program.**"
   ]
  },
  {
   "cell_type": "code",
   "execution_count": null,
   "id": "bfb6b0a9",
   "metadata": {},
   "outputs": [],
   "source": []
  }
 ],
 "metadata": {
  "kernelspec": {
   "display_name": "Python 3 (ipykernel)",
   "language": "python",
   "name": "python3"
  },
  "language_info": {
   "codemirror_mode": {
    "name": "ipython",
    "version": 3
   },
   "file_extension": ".py",
   "mimetype": "text/x-python",
   "name": "python",
   "nbconvert_exporter": "python",
   "pygments_lexer": "ipython3",
   "version": "3.9.13"
  }
 },
 "nbformat": 4,
 "nbformat_minor": 5
}
